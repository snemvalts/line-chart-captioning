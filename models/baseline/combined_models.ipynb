{
  "nbformat": 4,
  "nbformat_minor": 0,
  "metadata": {
    "colab": {
      "name": "5. Putting it all together",
      "provenance": [],
      "collapsed_sections": []
    },
    "kernelspec": {
      "display_name": "Python 3",
      "name": "python3"
    },
    "accelerator": "GPU"
  },
  "cells": [
    {
      "cell_type": "markdown",
      "metadata": {
        "id": "NnhyS1VLNrfh"
      },
      "source": [
        "# Starting out"
      ]
    },
    {
      "cell_type": "code",
      "metadata": {
        "colab": {
          "base_uri": "https://localhost:8080/"
        },
        "id": "SAoN8e62MAif",
        "outputId": "041209ff-fda5-4cdd-ae64-511d796ab8c4"
      },
      "source": [
        "from google.colab import drive\n",
        "drive.mount('/content/drive')"
      ],
      "execution_count": null,
      "outputs": [
        {
          "output_type": "stream",
          "text": [
            "Mounted at /content/drive\n"
          ],
          "name": "stdout"
        }
      ]
    },
    {
      "cell_type": "code",
      "metadata": {
        "id": "wncr2153ROgV"
      },
      "source": [
        "!cp /content/drive/MyDrive/Kool/Ülikool/'3. aasta'/Lõputöö/data.zip .\n",
        "!unzip -q data.zip\n",
        "!rm data.zip\n",
        "\n",
        "!cp /content/drive/MyDrive/Kool/Ülikool/'3. aasta'/Lõputöö/test_val.zip .\n",
        "!unzip -q test_val.zip\n",
        "!rm test_val.zip"
      ],
      "execution_count": null,
      "outputs": []
    },
    {
      "cell_type": "code",
      "metadata": {
        "id": "2RgggMjkYEDc",
        "colab": {
          "base_uri": "https://localhost:8080/"
        },
        "outputId": "22bae373-4675-45fa-fb0b-3218f083cde1"
      },
      "source": [
        "!rm -rf line-chart-captioning/\n",
        "#clone repo\n",
        "!git clone https://github.com/snemvalts/line-chart-captioning\n",
        "#clean out data folder and move extracted raw data to captioning\n",
        "!rm -rf line-chart-captioning/data/*\n",
        "!mv data/** line-chart-captioning/data/\n",
        "!mv test_val/validation1 line-chart-captioning/data/figureqa/"
      ],
      "execution_count": null,
      "outputs": [
        {
          "output_type": "stream",
          "text": [
            "Cloning into 'line-chart-captioning'...\n",
            "remote: Enumerating objects: 129, done.\u001b[K\n",
            "remote: Counting objects: 100% (129/129), done.\u001b[K\n",
            "remote: Compressing objects: 100% (93/93), done.\u001b[K\n",
            "remote: Total 129 (delta 40), reused 101 (delta 22), pack-reused 0\u001b[K\n",
            "Receiving objects: 100% (129/129), 22.30 KiB | 4.46 MiB/s, done.\n",
            "Resolving deltas: 100% (40/40), done.\n"
          ],
          "name": "stdout"
        }
      ]
    },
    {
      "cell_type": "code",
      "metadata": {
        "id": "FjFeVDn2_pEo"
      },
      "source": [
        "import json\n",
        "\n",
        "# Smoothest and roughest seem to always appear. Same for MIN_AUC and MAX_AUC\n",
        "question_types = [\"GREATER\", \"LESS\", \"INTERSECT\"]\n",
        "synthetic_json = {\n",
        "  \"questions\": question_types\n",
        "}\n",
        "\n",
        "with open('line-chart-captioning/synthetic.json', 'w') as f:\n",
        "  json.dump(synthetic_json, f)"
      ],
      "execution_count": null,
      "outputs": []
    },
    {
      "cell_type": "code",
      "metadata": {
        "colab": {
          "base_uri": "https://localhost:8080/"
        },
        "id": "KRinJJYLBCbk",
        "outputId": "51965f1d-dd67-47ab-8197-c8499d3063ec"
      },
      "source": [
        "!ls line-chart-captioning/data/figureqa"
      ],
      "execution_count": null,
      "outputs": [
        {
          "output_type": "stream",
          "text": [
            "README.md  sample_train1  train1  validation1\n"
          ],
          "name": "stdout"
        }
      ]
    },
    {
      "cell_type": "code",
      "metadata": {
        "colab": {
          "base_uri": "https://localhost:8080/"
        },
        "id": "DUouFsnJ1sZi",
        "outputId": "3e242677-38ed-4253-de12-5a0d5f316eb0"
      },
      "source": [
        "!cd line-chart-captioning && \\\n",
        "python3 src/synthetic/preprocess-question-types.py \\\n",
        "--synthetic-config synthetic.json \\\n",
        "data/figureqa/train1"
      ],
      "execution_count": null,
      "outputs": [
        {
          "output_type": "stream",
          "text": [
            "parsing QA...\n",
            "parsing annotations...\n",
            "processing plots...\n",
            "copying images...\n",
            "writing csv...\n"
          ],
          "name": "stdout"
        }
      ]
    },
    {
      "cell_type": "code",
      "metadata": {
        "colab": {
          "base_uri": "https://localhost:8080/"
        },
        "id": "qxftKh1i7rNf",
        "outputId": "0d118c58-4914-446e-91b7-f941f67961e3"
      },
      "source": [
        "!cd line-chart-captioning && \\\n",
        "python3 src/synthetic/preprocess-question-types.py \\\n",
        "--synthetic-config synthetic.json \\\n",
        "data/figureqa/validation1"
      ],
      "execution_count": null,
      "outputs": [
        {
          "output_type": "stream",
          "text": [
            "parsing QA...\n",
            "parsing annotations...\n",
            "processing plots...\n",
            "copying images...\n",
            "writing csv...\n"
          ],
          "name": "stdout"
        }
      ]
    },
    {
      "cell_type": "markdown",
      "metadata": {
        "id": "Eg4SToRdybsI"
      },
      "source": [
        "## creating transforms & dataset"
      ]
    },
    {
      "cell_type": "code",
      "metadata": {
        "id": "wQu5ntlOoscT"
      },
      "source": [
        "import os\n",
        "import numpy as np\n",
        "import pandas as pd\n",
        "import matplotlib.pyplot as plt\n",
        "from torch.utils.data import Dataset, DataLoader\n",
        "from torchvision import transforms, utils\n",
        "from PIL import Image\n",
        "from skimage import transform\n",
        "\n",
        "\n",
        "# adapted from https://pytorch.org/tutorials/beginner/data_loading_tutorial.html\n",
        "class SyntheticImageDataset(Dataset):\n",
        "  def __init__(self, csv_file, images_dir, transform=None):\n",
        "    self.charts_captions = pd.read_csv(csv_file)\n",
        "    self.images_dir = images_dir\n",
        "    self.transform = transform\n",
        "\n",
        "  def __len__(self):\n",
        "    return len(self.charts_captions)\n",
        "\n",
        "  def __getitem__(self, idx):\n",
        "    [image_number, description_blob, all_subjects_blob] = self.charts_captions.iloc[idx]\n",
        "    image_path = os.path.join(self.images_dir, f'{str(image_number)}.png')\n",
        "    image = np.array(Image.open(image_path))\n",
        "    \n",
        "    sample = {\n",
        "        'image': image, \n",
        "        'original_image': image,\n",
        "        'description_blob': description_blob,\n",
        "        'all_subjects_blob': all_subjects_blob   \n",
        "    }\n",
        "\n",
        "    if self.transform:\n",
        "      sample = self.transform(sample)\n",
        "\n",
        "    return sample"
      ],
      "execution_count": null,
      "outputs": []
    },
    {
      "cell_type": "code",
      "metadata": {
        "id": "-o2x0Jb8MDdM"
      },
      "source": [
        "class ResizeImage(object):\n",
        "  def __init__(self, output_size):\n",
        "    assert isinstance(output_size, (int, tuple))\n",
        "    self.output_size = output_size\n",
        "\n",
        "  def __call__(self, sample):\n",
        "    resized_image = transform.resize(sample['image'], self.output_size)\n",
        "    return {**sample, 'image': resized_image}\n",
        "\n",
        "class StripImageTransparency(object):\n",
        "  def __init__(self):\n",
        "    pass\n",
        "\n",
        "  def __call__(self, sample):\n",
        "    stripped_transparency_image = sample['image'][:,:,:3]\n",
        "    return {**sample, 'image': stripped_transparency_image}\n",
        "\n",
        "\n",
        "class NormalizeImage(object):\n",
        "  def __init__(self, mean, std):\n",
        "    self.mean = mean\n",
        "    self.std = std\n",
        "\n",
        "  def __call__(self, sample):\n",
        "    normalized_image = (sample['image'] - self.mean) / self.std\n",
        "    return {**sample, 'image': normalized_image}\n",
        "\n",
        "\n",
        "class ImageToTensor(object):\n",
        "  def __init__(self):\n",
        "    pass\n",
        "\n",
        "  def __call__(self, sample):\n",
        "    image = sample['image'].transpose((2, 0, 1))\n",
        "    return {**sample, 'image': torch.tensor(image).float()}\n",
        "\n",
        "\n",
        "class FirstQuestionTypeToOneHotTensor(object):\n",
        "  def __init__(self):\n",
        "    pass\n",
        "\n",
        "  def __call__(self, sample):\n",
        "    descriptions = json.loads(sample['description_blob'])\n",
        "    first_description = descriptions[0]\n",
        "    first_description_type = first_description[0]\n",
        "\n",
        "    all_description_types = [0]*(len(question_types))\n",
        "\n",
        "    description_type_index = question_types.index(first_description_type)\n",
        "    all_description_types[description_type_index] = 1\n",
        "\n",
        "    return {**sample, 'first_description_type': torch.tensor(all_description_types).float() }\n",
        "\n",
        "\n",
        "class IncludeSubjectLengths(object):\n",
        "  def __init__(self):\n",
        "    pass\n",
        "\n",
        "  def __call__(self, sample):\n",
        "    all_subjects_len = len(json.loads(sample['all_subjects_blob']))\n",
        "    return {**sample, 'subject_lengths': all_subjects_len }\n",
        "\n",
        "class FirstQuestionSubjectsToOneHotTensor(object):\n",
        "  def __init__(self, max_len):\n",
        "    self.max_len = max_len\n",
        "    pass\n",
        "\n",
        "  def __call__(self, sample):\n",
        "    descriptions = json.loads(sample['description_blob'])\n",
        "    all_subjects = json.loads(sample['all_subjects_blob'])\n",
        "\n",
        "    first_description = descriptions[0]\n",
        "    first_description_first_subject = first_description[1]\n",
        "    first_description_second_subject = first_description[2]\n",
        "\n",
        "    first_subject_onehot = [0]*self.max_len\n",
        "    first_description_subject_index = all_subjects.index(first_description_first_subject)\n",
        "    first_subject_onehot[first_description_subject_index] = 1\n",
        "\n",
        "    second_subject_onehot = [0]*self.max_len\n",
        "    second_description_subject_index = all_subjects.index(first_description_second_subject)\n",
        "    second_subject_onehot[second_description_subject_index] = 1\n",
        "\n",
        "    return {\n",
        "        **sample, \n",
        "        'first_description_subject_onehot': torch.tensor(first_subject_onehot).long(),\n",
        "        'first_description_subject_index': first_description_subject_index,\n",
        "        'second_description_subject_onehot': torch.tensor(second_subject_onehot).long(),\n",
        "        'second_description_subject_index': second_description_subject_index\n",
        "    }\n",
        "\n"
      ],
      "execution_count": null,
      "outputs": []
    },
    {
      "cell_type": "code",
      "metadata": {
        "id": "BFYGum8CMi4h"
      },
      "source": [
        "import torch\n",
        "\n",
        "def get_dataset(images_dir = None, csv_file = None):\n",
        "  # parallely calculate max caption len and word map to pass it to padcaption\n",
        "  # cause can't access dataset from transforms before it is defined in compose\n",
        "\n",
        "  captions_csv = pd.read_csv(csv_file)\n",
        "  \n",
        "  max_subjects_len = captions_csv['all_subjects_blob'].apply(lambda blob: len(json.loads(blob))).max()\n",
        "  \n",
        "\n",
        "  #TODO: maybe rearrange according to size?\n",
        "  train_dataset = SyntheticImageDataset(images_dir = images_dir,\n",
        "                           csv_file = csv_file,\n",
        "                           transform=transforms.Compose([\n",
        "                                  ResizeImage((224, 224)),\n",
        "                                  StripImageTransparency(),\n",
        "                                  NormalizeImage(mean=[0.485, 0.456, 0.406], std=[0.229, 0.224, 0.225]),\n",
        "                                  ImageToTensor(),\n",
        "                                  FirstQuestionTypeToOneHotTensor(),\n",
        "                                  FirstQuestionSubjectsToOneHotTensor(max_subjects_len),\n",
        "                                  IncludeSubjectLengths()\n",
        "                                 ]))\n",
        "                                 \n",
        "\n",
        "  return train_dataset, max_subjects_len\n",
        "\n",
        "\n",
        "train_dataset, max_subjects_len = get_dataset(images_dir = 'line-chart-captioning/data/processed_synthetic/train1-types/images',\n",
        "                      csv_file = 'line-chart-captioning/data/processed_synthetic/train1-types/captions.csv')\n",
        "\n",
        "validation_dataset = SyntheticImageDataset(images_dir = 'line-chart-captioning/data/processed_synthetic/validation1-types/images',\n",
        "                           csv_file = 'line-chart-captioning/data/processed_synthetic/validation1-types/captions.csv',\n",
        "                           transform=transforms.Compose([\n",
        "                                  ResizeImage((224, 224)),\n",
        "                                  StripImageTransparency(),\n",
        "                                  NormalizeImage(mean=[0.485, 0.456, 0.406], std=[0.229, 0.224, 0.225]),\n",
        "                                  ImageToTensor(),\n",
        "                                  FirstQuestionTypeToOneHotTensor(),\n",
        "                                  FirstQuestionSubjectsToOneHotTensor(max_subjects_len),\n",
        "                                  IncludeSubjectLengths()\n",
        "                                 ]))\n",
        "\n",
        "batch_size=1\n",
        "\n",
        "train_loader = torch.utils.data.DataLoader(\n",
        "        train_dataset,\n",
        "        batch_size=batch_size, shuffle=True, num_workers=1, pin_memory=True)\n",
        "\n",
        "val_loader = torch.utils.data.DataLoader(\n",
        "        validation_dataset,\n",
        "        batch_size=batch_size, shuffle=True, num_workers=1, pin_memory=True)\n"
      ],
      "execution_count": null,
      "outputs": []
    },
    {
      "cell_type": "markdown",
      "metadata": {
        "id": "4VNbi6_FykrD"
      },
      "source": [
        "## encoder and elements model"
      ]
    },
    {
      "cell_type": "code",
      "metadata": {
        "id": "uCMmvlNbknM1"
      },
      "source": [
        "import torchvision\n",
        "from torch import nn\n",
        "\n",
        "class Encoder(nn.Module):\n",
        "  def __init__(self, encoder_shape):\n",
        "    super(Encoder, self).__init__()\n",
        "\n",
        "    base_resnet = torchvision.models.resnet50(pretrained=True) \n",
        "    resnet_without_fc = nn.Sequential(*(list(base_resnet.children())[:-2]))\n",
        "\n",
        "    # freeze weights of resnet \n",
        "    #for parameter in resnet_without_fc.parameters():\n",
        "    #  parameter.requires_grad = False\n",
        "\n",
        "\n",
        "    self.resnet = resnet_without_fc\n",
        "    self.pool = nn.AdaptiveAvgPool3d(encoder_shape)\n",
        "\n",
        "  \n",
        "  def forward(self, x):\n",
        "    x = self.resnet(x)\n",
        "    x = self.pool(x)\n",
        "    x = torch.reshape(x, (-1, 2048*3*3))\n",
        "    return x\n",
        "\n",
        "class SubjectsModel(nn.Module):\n",
        "  def __init__(self, encoder_shape, \n",
        "               category_count,\n",
        "               subject_max_len, \n",
        "               cut_off=True):\n",
        "    super(SubjectsModel, self).__init__()\n",
        "\n",
        "    encoder_dim = 1\n",
        "    for dim in encoder_shape:\n",
        "      encoder_dim *= dim\n",
        "\n",
        "    self.question_type_dense = nn.Linear(category_count, 1024)\n",
        "    self.other_subject_dense = nn.Linear(subject_max_len, 1024)\n",
        "    self.encoder_dense = nn.Linear(encoder_dim, 1024)\n",
        "\n",
        "    hidden_dim = 1024 * 3\n",
        "\n",
        "    self.hidden1 = nn.Linear(hidden_dim, hidden_dim)\n",
        "    self.hidden2 = nn.Linear(hidden_dim, hidden_dim)\n",
        "    self.hidden3 = nn.Linear(hidden_dim, hidden_dim)\n",
        "    self.hidden4 = nn.Linear(hidden_dim, hidden_dim)\n",
        "    self.hidden5 = nn.Linear(hidden_dim, hidden_dim)\n",
        "\n",
        "    self.output = nn.Linear(hidden_dim, subject_max_len)\n",
        "\n",
        "    self.relu = nn.ReLU()\n",
        "\n",
        "    self.cut_off = cut_off\n",
        "    self.softmax = nn.Softmax()\n",
        "    self.init_weights()\n",
        "\n",
        "  def init_weights(self):\n",
        "    for m in [self.question_type_dense, self.other_subject_dense, self.encoder_dense,\n",
        "              self.hidden1, self.hidden2, self.hidden3, self.hidden4, self.hidden5]:\n",
        "      torch.nn.init.xavier_uniform(m.weight)\n",
        "      m.bias.data.fill_(0.01)\n",
        "\n",
        "  def forward(self, encoder_out, question_type_onehot, other_subject_onehot, other_subject_indices=[], subject_lengths=[]):\n",
        "    batch_size = encoder_out.shape[0]\n",
        "\n",
        "    x_category = self.question_type_dense(question_type_onehot)\n",
        "    x_subject = self.other_subject_dense(other_subject_onehot)\n",
        "    x_encoder = self.encoder_dense(encoder_out)\n",
        "\n",
        "    x = torch.cat((x_category, x_subject, x_encoder), dim=1)\n",
        "\n",
        "    x = self.relu(self.hidden1(x))\n",
        "    x = self.relu(self.hidden2(x))\n",
        "    x = self.relu(self.hidden3(x))\n",
        "\n",
        "    x = self.relu(self.hidden4(x))\n",
        "    x = self.relu(self.hidden5(x))\n",
        "\n",
        "    x = self.output(x)\n",
        "    x = self.softmax(x)\n",
        "\n",
        "\n",
        "    x_cloned = x.clone()\n",
        "    # if cut off is enabled, use subject lengths to set any unnecessary predictions to 0\n",
        "    if (self.cut_off):\n",
        "        assert len(subject_lengths) == batch_size, 'Subject lengths not provided'\n",
        "        for i, length in enumerate(subject_lengths):\n",
        "          #print('before', x_cloned[i], 'with length ', length)\n",
        "          x_cloned[i, length:] = 0.0\n",
        "          \n",
        "\n",
        "        # reset the other subject prediction to 0 as well \n",
        "        for i, other_subject_index in enumerate(other_subject_indices):\n",
        "          x_cloned[i][other_subject_index] = 0.0\n",
        "\n",
        "    return x_cloned"
      ],
      "execution_count": null,
      "outputs": []
    },
    {
      "cell_type": "markdown",
      "metadata": {
        "id": "IRl4FKM4_wyk"
      },
      "source": [
        "# categories model"
      ]
    },
    {
      "cell_type": "code",
      "metadata": {
        "id": "0pWtxu-P_73U"
      },
      "source": [
        "class CategoryModel(nn.Module):\n",
        "  def __init__(self, encoder_shape, \n",
        "               hidden_dim, \n",
        "               category_count,\n",
        "               dropout_p=0.5):\n",
        "    super(CategoryModel, self).__init__()\n",
        "\n",
        "    encoder_dim = 1\n",
        "    for dim in encoder_shape:\n",
        "      encoder_dim *= dim\n",
        "\n",
        "\n",
        "    self.hidden1 = nn.Linear(encoder_dim, hidden_dim)\n",
        "    self.hidden2 = nn.Linear(hidden_dim, hidden_dim)\n",
        "    self.hidden3 = nn.Linear(hidden_dim, hidden_dim)\n",
        "    self.hidden4 = nn.Linear(hidden_dim, hidden_dim)\n",
        "    self.hidden5 = nn.Linear(hidden_dim, hidden_dim)\n",
        "    self.hidden6 = nn.Linear(hidden_dim, hidden_dim)\n",
        "\n",
        "\n",
        "    self.output = nn.Linear(hidden_dim, category_count)\n",
        "\n",
        "    self.relu = nn.ReLU()\n",
        "\n",
        "    self.softmax = nn.Softmax()\n",
        "    self.init_weights()\n",
        "\n",
        "  def init_weights(self):\n",
        "    for m in [self.hidden1, self.hidden2, self.hidden3, self.hidden4, self.hidden5, self.hidden6]:\n",
        "      torch.nn.init.xavier_uniform(m.weight)\n",
        "      m.bias.data.fill_(0.01)\n",
        "\n",
        "  def forward(self, encoder_out):\n",
        "    x = self.relu(self.hidden1(encoder_out))\n",
        "    x = self.relu(self.hidden2(x))\n",
        "    x = self.relu(self.hidden3(x))\n",
        "\n",
        "    x = self.relu(self.hidden4(x))\n",
        "    x = self.relu(self.hidden5(x))\n",
        "    x = self.relu(self.hidden6(x))\n",
        "\n",
        "    x = self.output(x)\n",
        "    x = self.softmax(x)\n",
        "    #predicted_types = torch.argmax(x, dim=1)\n",
        "    #print(predicted_types)\n",
        "    #print()\n",
        "    return x #predictions if we want the whole arr\n",
        "\n"
      ],
      "execution_count": null,
      "outputs": []
    },
    {
      "cell_type": "markdown",
      "metadata": {
        "id": "ERC8muQgCErD"
      },
      "source": [
        "# loading both models\n"
      ]
    },
    {
      "cell_type": "code",
      "metadata": {
        "id": "YTW2AAV0CEDu",
        "colab": {
          "base_uri": "https://localhost:8080/"
        },
        "outputId": "e69e6e75-cd21-4901-c660-9e5bf2cc7d3c"
      },
      "source": [
        "encoder_shape = (2048, 3, 3)\n",
        "category_count = len(question_types)\n",
        "\n",
        "max_subjects_len = 7\n",
        "\n",
        "device = torch.device(\"cuda\" if torch.cuda.is_available() else \"cpu\")\n",
        "\n",
        "\n",
        "first_subject_model_filename = 'subject_model_first_ca_state.pth'\n",
        "second_subject_model_filename = 'subject_model_second_ca_state.pth'\n",
        "category_model_filename = 'category_model_ba_state.pth'\n",
        "\n",
        "\n",
        "encoder = Encoder(encoder_shape=encoder_shape).to(device)\n",
        "\n",
        "category_model = CategoryModel(encoder_shape, 2048, category_count).to(device)\n",
        "category_model.load_state_dict(torch.load(f\"/content/drive/MyDrive/Kool/Ülikool/3. aasta/Lõputöö/{category_model_filename}\"))\n",
        "\n",
        "first_subject_model = SubjectsModel(encoder_shape, category_count, max_subjects_len, cut_off=False).to(device)\n",
        "first_subject_model.load_state_dict(torch.load(f\"/content/drive/MyDrive/Kool/Ülikool/3. aasta/Lõputöö/{first_subject_model_filename}\"))\n",
        "\n",
        "second_subject_model = SubjectsModel(encoder_shape, category_count, max_subjects_len, cut_off=False).to(device)\n",
        "second_subject_model.load_state_dict(torch.load(f\"/content/drive/MyDrive/Kool/Ülikool/3. aasta/Lõputöö/{second_subject_model_filename}\"))\n",
        "\n",
        "\n",
        "category_model.eval()\n",
        "first_subject_model.eval()\n",
        "second_subject_model.eval()"
      ],
      "execution_count": null,
      "outputs": [
        {
          "output_type": "stream",
          "text": [
            "/usr/local/lib/python3.7/dist-packages/ipykernel_launcher.py:30: UserWarning: nn.init.xavier_uniform is now deprecated in favor of nn.init.xavier_uniform_.\n",
            "/usr/local/lib/python3.7/dist-packages/ipykernel_launcher.py:60: UserWarning: nn.init.xavier_uniform is now deprecated in favor of nn.init.xavier_uniform_.\n"
          ],
          "name": "stderr"
        },
        {
          "output_type": "execute_result",
          "data": {
            "text/plain": [
              "SubjectsModel(\n",
              "  (question_type_dense): Linear(in_features=3, out_features=1024, bias=True)\n",
              "  (other_subject_dense): Linear(in_features=7, out_features=1024, bias=True)\n",
              "  (encoder_dense): Linear(in_features=18432, out_features=1024, bias=True)\n",
              "  (hidden1): Linear(in_features=3072, out_features=3072, bias=True)\n",
              "  (hidden2): Linear(in_features=3072, out_features=3072, bias=True)\n",
              "  (hidden3): Linear(in_features=3072, out_features=3072, bias=True)\n",
              "  (hidden4): Linear(in_features=3072, out_features=3072, bias=True)\n",
              "  (hidden5): Linear(in_features=3072, out_features=3072, bias=True)\n",
              "  (output): Linear(in_features=3072, out_features=7, bias=True)\n",
              "  (relu): ReLU()\n",
              "  (softmax): Softmax(dim=None)\n",
              ")"
            ]
          },
          "metadata": {
            "tags": []
          },
          "execution_count": 17
        }
      ]
    },
    {
      "cell_type": "markdown",
      "metadata": {
        "id": "qXxkzlbmluJt"
      },
      "source": [
        "# loading models and making inferences"
      ]
    },
    {
      "cell_type": "code",
      "metadata": {
        "id": "RV-KG_i-es7V",
        "colab": {
          "base_uri": "https://localhost:8080/",
          "height": 592
        },
        "outputId": "970bec53-2c09-44df-be49-5936f92f1e5c"
      },
      "source": [
        "from torch.nn.utils.rnn import pack_padded_sequence\n",
        "from nltk.translate.bleu_score import corpus_bleu\n",
        "import random\n",
        "\n",
        "def subject_model_predict(model, \n",
        "               imgs, \n",
        "               description_type,\n",
        "               opposite_subject_onehot, \n",
        "               subject_lengths):\n",
        "  \n",
        "  # note we are providing them cross. So first element model gets second question type \n",
        "  subject_prediction_scores = model(imgs, \n",
        "                                    description_type, \n",
        "                                    opposite_subject_onehot.float(), \n",
        "                                    subject_lengths=subject_lengths)\n",
        "  \n",
        "  return subject_prediction_scores\n",
        "  \n",
        "\n",
        "\n",
        "def category_model_predict(model, imgs):\n",
        "  category_prediction_scores = model(imgs)\n",
        "  return category_prediction_scores\n",
        "\n",
        "\n",
        "def category_prediction_scores_to_categories(scores, pick_most_confident=True):\n",
        "  scores = scores.cpu().numpy()\n",
        "  pred_threshold = 1/scores.shape[1]\n",
        "\n",
        "  if (pick_most_confident):\n",
        "    predicted_category_indices = [np.argmax(scores)]\n",
        "  else:\n",
        "    predicted_category_indices =  [i for i in np.where(scores > pred_threshold)[1]]\n",
        "  categories_as_strings = [question_types[category_idx] for category_idx in predicted_category_indices]\n",
        "\n",
        "  return predicted_category_indices, categories_as_strings\n",
        "\n",
        "\n",
        "def generate_description(description_type, first_subject, second_subject):\n",
        "  if (description_type == 'GREATER'):\n",
        "    return f\"{first_subject} is greater than {second_subject}\"\n",
        "  if (description_type == 'LESS'):\n",
        "    return f\"{first_subject} is less than {second_subject}\"\n",
        "  if (description_type == 'INTERSECT'):\n",
        "    return f\"{first_subject} intersects {second_subject}\"\n",
        "\n",
        "\n",
        "\n",
        "def subjects_model_predictions_to_subjects(first_subject_prediction_scores, \n",
        "                                           second_subject_prediction_scores, subjects, k=3):\n",
        "  \n",
        "  # clamp predictions\n",
        "  first_subject_prediction_scores[:, len(subjects):] = 0\n",
        "  second_subject_prediction_scores[:, len(subjects):] = 0\n",
        "\n",
        "\n",
        "  _, top_first_subject_indexes = torch.topk(first_subject_prediction_scores, k)\n",
        "  top_first_subject_indexes = top_first_subject_indexes.cpu().numpy().tolist()[0]\n",
        "\n",
        "  _, top_second_subject_indexes = torch.topk(second_subject_prediction_scores, k)\n",
        "  top_second_subject_indexes = top_second_subject_indexes.cpu().numpy().tolist()[0]\n",
        "\n",
        "  zipped = list(zip(top_first_subject_indexes, top_second_subject_indexes))\n",
        "\n",
        "  subjects_converted = []\n",
        "\n",
        "  for index_pair in zipped:\n",
        "    subjects_converted.append([subjects[index_pair[0]], subjects[index_pair[1]]])\n",
        "\n",
        "  return subjects_converted\n",
        "\n",
        "\n",
        "def infer(batch):\n",
        "  imgs = batch['image'].to(device)\n",
        "  description_type = batch['first_description_type'].to(device)\n",
        "  subject_lengths = batch['subject_lengths'].to(device)\n",
        "\n",
        "  imgs = encoder(imgs)\n",
        "\n",
        "  category_prediction_scores = category_model_predict(category_model, imgs)\n",
        "  predicted_category_indices, predicted_category_strings = category_prediction_scores_to_categories(category_prediction_scores, \n",
        "                                                                                                    pick_most_confident=False)\n",
        "\n",
        "  subjects = json.loads(batch['all_subjects_blob'][0])\n",
        "\n",
        "  print(\"Most confident category prediction: \", predicted_category_strings)\n",
        "  plt.figure(figsize = (10, 10))\n",
        "  plt.imshow(batch['original_image'][0])\n",
        "\n",
        "  for idx, category_index in enumerate(predicted_category_indices):\n",
        "    predicted_category_onehot = [0]*(len(question_types))\n",
        "    predicted_category_onehot[category_index] = 1\n",
        "    predicted_category_onehot = torch.tensor(predicted_category_onehot).float().to(device)\n",
        "\n",
        "    predicted_category_onehot = predicted_category_onehot.unsqueeze(0)\n",
        "\n",
        "    first_subject_opposite_onehot = torch.zeros(max_subjects_len).unsqueeze(0).to(device)\n",
        "    first_subject_prediction_scores = subject_model_predict(first_subject_model,\n",
        "                       imgs,\n",
        "                       description_type,\n",
        "                       opposite_subject_onehot=first_subject_opposite_onehot,\n",
        "                       subject_lengths=subject_lengths\n",
        "                       )\n",
        "    \n",
        "\n",
        "    second_subject_opposite_onehot = torch.zeros(max_subjects_len)\n",
        "    predicted_first_subject_index = torch.argmax(first_subject_prediction_scores).clone().cpu().numpy()\n",
        "    second_subject_opposite_onehot[predicted_first_subject_index] = 1\n",
        "    second_subject_opposite_onehot = second_subject_opposite_onehot.unsqueeze(0).to(device)\n",
        "\n",
        "    second_subject_prediction_scores = subject_model_predict(second_subject_model,\n",
        "                       imgs,\n",
        "                       description_type,\n",
        "                       opposite_subject_onehot=second_subject_opposite_onehot,\n",
        "                       subject_lengths=subject_lengths\n",
        "                       )\n",
        "    \n",
        "    top_k_subject_pairs = subjects_model_predictions_to_subjects(first_subject_prediction_scores,\n",
        "                                                                                  second_subject_prediction_scores,\n",
        "                                                                                  subjects, k=3)\n",
        "    \n",
        "    for top_idx, subject_pair in enumerate(top_k_subject_pairs):\n",
        "      category = predicted_category_strings[idx]\n",
        "      print(f\"Model top-{top_idx+1} prediction for {category}: {generate_description(category, subject_pair[0], subject_pair[1])}\")\n",
        "\n",
        "infer_loader = torch.utils.data.DataLoader(\n",
        "        validation_dataset,\n",
        "        batch_size=batch_size, shuffle=True, num_workers=1, pin_memory=True)\n",
        "\n",
        "batch = next(iter(infer_loader))\n",
        "\n",
        "\n",
        "with torch.no_grad():\n",
        "  infer(batch)"
      ],
      "execution_count": null,
      "outputs": [
        {
          "output_type": "stream",
          "text": [
            "Most confident category prediction:  ['GREATER', 'LESS']\n",
            "Model top-1 prediction for GREATER: Tomato is greater than Light Gold\n",
            "Model top-2 prediction for GREATER: Light Gold is greater than Tomato\n",
            "Model top-3 prediction for GREATER: Violet Red is greater than Violet Red\n",
            "Model top-1 prediction for LESS: Tomato is less than Light Gold\n",
            "Model top-2 prediction for LESS: Light Gold is less than Tomato\n",
            "Model top-3 prediction for LESS: Violet Red is less than Violet Red\n"
          ],
          "name": "stdout"
        },
        {
          "output_type": "display_data",
          "data": {
            "image/png": "[encoded data removed]",
            "text/plain": [
              "<Figure size 720x720 with 1 Axes>"
            ]
          },
          "metadata": {
            "tags": [],
            "needs_background": "light"
          }
        }
      ]
    },
    {
      "cell_type": "code",
      "metadata": {
        "id": "D8Waxa5VJBLk"
      },
      "source": [
        "raise ValueError(\"Nope\")\n",
        "\n",
        "def descriptions_equal(a, b):\n",
        "  return a[0] == b[0] and a[1] == b[1] and a[2] == b[2]\n",
        "\n",
        "\n",
        "def predicted_description_present(predicted, targets):\n",
        "  for target in targets:\n",
        "    if (descriptions_equal(predicted, target)):\n",
        "      return True\n",
        "\n",
        "  return False\n",
        "\n",
        "def validate(batch):\n",
        "  global total_count\n",
        "  global predicted_present_count\n",
        "\n",
        "  imgs = batch['image'].to(device)\n",
        "  description_type = batch['first_description_type'].to(device)\n",
        "  subject_lengths = batch['subject_lengths'].to(device)\n",
        "\n",
        "  imgs = encoder(imgs)\n",
        "\n",
        "  category_prediction_scores = category_model_predict(category_model, imgs)\n",
        "  predicted_category_indices, predicted_category_strings = category_prediction_scores_to_categories(category_prediction_scores, \n",
        "                                                                                                    pick_most_confident=False)\n",
        "\n",
        "  subjects = json.loads(batch['all_subjects_blob'][0])\n",
        "  descriptions = json.loads(batch['description_blob'][0])\n",
        "\n",
        "  predicted_descriptions = []\n",
        "\n",
        "  for idx, category_index in enumerate(predicted_category_indices):\n",
        "    predicted_category_onehot = [0]*(len(question_types))\n",
        "    predicted_category_onehot[category_index] = 1\n",
        "    predicted_category_onehot = torch.tensor(predicted_category_onehot).float().to(device)\n",
        "\n",
        "    predicted_category_onehot = predicted_category_onehot.unsqueeze(0)\n",
        "\n",
        "    first_subject_opposite_onehot = torch.zeros(max_subjects_len).unsqueeze(0).to(device)\n",
        "    first_subject_prediction_scores = subject_model_predict(first_subject_model,\n",
        "                       imgs,\n",
        "                       description_type,\n",
        "                       opposite_subject_onehot=first_subject_opposite_onehot,\n",
        "                       subject_lengths=subject_lengths\n",
        "                       )\n",
        "    \n",
        "\n",
        "    second_subject_opposite_onehot = torch.zeros(max_subjects_len)\n",
        "    predicted_first_subject_index = torch.argmax(first_subject_prediction_scores).clone().cpu().numpy()\n",
        "    second_subject_opposite_onehot[predicted_first_subject_index] = 1\n",
        "    second_subject_opposite_onehot = second_subject_opposite_onehot.unsqueeze(0).to(device)\n",
        "\n",
        "    second_subject_prediction_scores = subject_model_predict(second_subject_model,\n",
        "                       imgs,\n",
        "                       description_type,\n",
        "                       opposite_subject_onehot=second_subject_opposite_onehot,\n",
        "                       subject_lengths=subject_lengths\n",
        "                       )\n",
        "    \n",
        "    top_k_subject_pairs = subjects_model_predictions_to_subjects(first_subject_prediction_scores,\n",
        "                                                                                  second_subject_prediction_scores,\n",
        "                                                                                  subjects)\n",
        "    category = predicted_category_strings[idx]\n",
        "    predicted_descriptions.append([category, subjects[0], subjects[1]])\n",
        "\n",
        "  #print(\"pred\", predicted_descriptions)\n",
        "  #print(\"actual\", descriptions)\n",
        "\n",
        "  total_count += 1\n",
        "\n",
        "  for predicted in predicted_descriptions:\n",
        "    if (predicted_description_present(predicted, descriptions)):\n",
        "      predicted_present_count += 1\n",
        "\n",
        "\n",
        "predicted_present_count = 0\n",
        "total_count = 0\n",
        "\n",
        "with torch.no_grad():\n",
        "  for batch in val_loader:\n",
        "    try:\n",
        "      validate(batch)\n",
        "    except:\n",
        "      pass\n",
        "\n",
        "print(predicted_present_count, total_count)"
      ],
      "execution_count": null,
      "outputs": []
    }
  ]
}